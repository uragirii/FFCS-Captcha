{
 "cells": [
  {
   "cell_type": "code",
   "execution_count": 1,
   "metadata": {},
   "outputs": [],
   "source": [
    "# finally I may have achieved excalibur. But lets check\n",
    "\n",
    "#First importing the files:\n",
    "from PIL import Image\n",
    "from IPython.display import display\n",
    "import numpy as np\n",
    "import time\n",
    "import os\n",
    "from random import randint\n",
    "import cv2\n",
    "%matplotlib inline\n",
    "from matplotlib import pyplot as plt\n",
    "path = 'files/unlabelled/'\n",
    "key_path = 'files/keys/'\n",
    "list_of_captcha = os.listdir(path)\n",
    "list_of_keys = os.listdir(key_path)"
   ]
  },
  {
   "cell_type": "code",
   "execution_count": 2,
   "metadata": {},
   "outputs": [],
   "source": [
    "# This function first selects random captcha from the list of captchas and then convert to \n",
    "# test.png file.  Also comverts image to binary image.\n",
    "def get_random_captcha(img = ''):\n",
    "    if img == '':\n",
    "        img = list_of_captcha[randint(0,len(list_of_captcha))]\n",
    "        img = path + img\n",
    "    image = Image.open(img).convert(\"L\")\n",
    "    pixel_matrix = np.array(image)\n",
    "    for col in range(pixel_matrix.shape[1]-1):\n",
    "        for row in range(pixel_matrix.shape[0]-1):\n",
    "            if pixel_matrix[row,col] == 250:\n",
    "                pixel_matrix[row,col] = 0\n",
    "            if pixel_matrix[row, col] == 86:\n",
    "                pixel_matrix[row, col] = 255\n",
    "    changed_image = Image.fromarray(pixel_matrix)\n",
    "    changed_image.save(\"test.png\")\n",
    "\n",
    "# This function removes all the lines and other noisy stuff from the image    \n",
    "def remove_noise():\n",
    "    img = cv2.imread(\"test.png\",0)\n",
    "    plt.imshow(img)\n",
    "    plt.show()\n",
    "    kernel_mor = np.ones((2,2),np.uint8)\n",
    "    kernel_ero = np.ones((1,1), np.uint8)\n",
    "    morph = cv2.morphologyEx(img,cv2.MORPH_OPEN,kernel_mor)\n",
    "    ero = cv2.erode(morph,kernel_ero, iterations =1)\n",
    "    # I'm not showing the morphed image and also not storing that image\n",
    "    plt.imshow(ero)\n",
    "    plt.show()\n",
    "    cv2.imwrite(\"erosion.png\", ero)\n",
    "\n",
    "# this function reads the erosion. png image and then tell most frequent 6 letters\n",
    "def detect_letters():\n",
    "    max_detail = []\n",
    "    img = cv2.imread('erosion.png', 0)\n",
    "    for key_file in list_of_keys:\n",
    "        template = cv2.imread(key_path + key_file, 0)\n",
    "        w,h = template.shape[::-1]\n",
    "        res = cv2.matchTemplate(img, template, cv2.TM_CCOEFF_NORMED)\n",
    "        min_val, max_val, min_loc, max_loc = cv2.minMaxLoc(res)\n",
    "        max_detail.append((key_file, max_val, max_loc))\n",
    "    # Now sort the files according to max_val and find the top 6\n",
    "    # TODO: solve for multiple occurances\n",
    "    raw_letters =  sorted(sorted(max_detail, key=lambda x : x[1], reverse = True)[0:6], key=lambda x:x[2][0])\n",
    "    captcha_val = ''\n",
    "    for letter in raw_letters:\n",
    "        captcha_val = captcha_val + letter[0][0].upper()\n",
    "    return captcha_val\n",
    "        \n",
    "    "
   ]
  },
  {
   "cell_type": "code",
   "execution_count": 6,
   "metadata": {},
   "outputs": [
    {
     "data": {
      "image/png": "[encoded data removed]",
      "text/plain": [
       "<Figure size 432x288 with 1 Axes>"
      ]
     },
     "metadata": {
      "needs_background": "light"
     },
     "output_type": "display_data"
    },
    {
     "data": {
      "image/png": "[encoded data removed]",
      "text/plain": [
       "<Figure size 432x288 with 1 Axes>"
      ]
     },
     "metadata": {
      "needs_background": "light"
     },
     "output_type": "display_data"
    },
    {
     "name": "stdout",
     "output_type": "stream",
     "text": [
      "Detected Capctha  6QA5TM\n"
     ]
    }
   ],
   "source": [
    "get_random_captcha()\n",
    "remove_noise()\n",
    "print(\"Detected Capctha \", detect_letters())"
   ]
  },
  {
   "cell_type": "code",
   "execution_count": null,
   "metadata": {},
   "outputs": [],
   "source": []
  }
 ],
 "metadata": {
  "kernelspec": {
   "display_name": "Python 3",
   "language": "python",
   "name": "python3"
  },
  "language_info": {
   "codemirror_mode": {
    "name": "ipython",
    "version": 3
   },
   "file_extension": ".py",
   "mimetype": "text/x-python",
   "name": "python",
   "nbconvert_exporter": "python",
   "pygments_lexer": "ipython3",
   "version": "3.7.1"
  }
 },
 "nbformat": 4,
 "nbformat_minor": 2
}
